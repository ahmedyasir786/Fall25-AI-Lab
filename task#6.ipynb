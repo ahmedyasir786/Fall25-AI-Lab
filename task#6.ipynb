{
 "cells": [
  {
   "cell_type": "markdown",
   "id": "19a78869",
   "metadata": {},
   "source": [
    "# DLS"
   ]
  },
  {
   "cell_type": "code",
   "execution_count": 1,
   "id": "51fe506d",
   "metadata": {},
   "outputs": [
    {
     "name": "stdout",
     "output_type": "stream",
     "text": [
      "A B D E C F "
     ]
    }
   ],
   "source": [
    "def dls(graph, start, limit):\n",
    "    visited = set()\n",
    "    stack = [(start, 0)]  \n",
    "\n",
    "    while stack:\n",
    "        vertex, depth = stack.pop()\n",
    "        if vertex not in visited:\n",
    "            print(vertex, end=\" \")\n",
    "            visited.add(vertex)\n",
    "\n",
    "            if depth < limit:\n",
    "                for neighbor in reversed(graph[vertex]):\n",
    "                    if neighbor not in visited:\n",
    "                        stack.append((neighbor, depth + 1))\n",
    "\n",
    "graph = {\n",
    "    'A': ['B', 'C'],\n",
    "    'B': ['D', 'E'],\n",
    "    'C': ['F'],\n",
    "    'D': [],\n",
    "    'E': ['F'],\n",
    "    'F': []\n",
    "}\n",
    "\n",
    "dls(graph, 'A', 2)\n"
   ]
  }
 ],
 "metadata": {
  "kernelspec": {
   "display_name": "base",
   "language": "python",
   "name": "python3"
  },
  "language_info": {
   "codemirror_mode": {
    "name": "ipython",
    "version": 3
   },
   "file_extension": ".py",
   "mimetype": "text/x-python",
   "name": "python",
   "nbconvert_exporter": "python",
   "pygments_lexer": "ipython3",
   "version": "3.12.4"
  }
 },
 "nbformat": 4,
 "nbformat_minor": 5
}
