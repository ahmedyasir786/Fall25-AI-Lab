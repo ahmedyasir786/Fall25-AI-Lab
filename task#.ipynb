{
 "cells": [
  {
   "cell_type": "code",
   "execution_count": 2,
   "id": "d33f5e02",
   "metadata": {},
   "outputs": [
    {
     "name": "stdout",
     "output_type": "stream",
     "text": [
      "Rooms -- Temperature --- Action\n",
      "living room  --          25 --- no action (AC already off)\n",
      "drawing room --          27 --- no action (AC already off)\n",
      "kitchen      --          32 --- no action (AC already off)\n",
      "bed room     --          20 --- turn on the AC\n",
      "store room   --          22 --- no action (AC already off)\n"
     ]
    }
   ],
   "source": [
    "class Model_base:\n",
    "    def __init__(self, rooms, fixed_temp):\n",
    "        self.fixed_temp = fixed_temp   \n",
    "        self.ac_states = {room: \"off\" for room in rooms}\n",
    "\n",
    "    def act(self, temperatures):\n",
    "\n",
    "        actions = {}\n",
    "        for room, temp in temperatures.items():\n",
    "            if temp > self.fixed_temp and self.ac_states[room] == \"on\":\n",
    "                self.ac_states[room] = \"off\"\n",
    "                actions[room] = \"turn off the AC\"\n",
    "\n",
    "            elif temp <= self.fixed_temp and self.ac_states[room] == \"off\":\n",
    "                self.ac_states[room] = \"on\"\n",
    "                actions[room] = \"turn on the AC\"\n",
    "\n",
    "            else:\n",
    "                actions[room] = f\"no action (AC already {self.ac_states[room]})\"\n",
    "\n",
    "        return actions\n",
    "\n",
    "rooms = {\n",
    "    \"living room\": 25,\n",
    "    \"drawing room\": 27,\n",
    "    \"kitchen\": 32,\n",
    "    \"bed room\": 20,\n",
    "    \"store room\":22\n",
    "}\n",
    "\n",
    "agent = Model_base(rooms, fixed_temp = 20)\n",
    "\n",
    "print(\"Rooms -- Temperature --- Action\")\n",
    "for room, temp in rooms.items():\n",
    "    actions = agent.act({room: temp})\n",
    "    print(f\"{room:12} -- {temp:11} --- {actions[room]}\")\n"
   ]
  },
  {
   "cell_type": "code",
   "execution_count": null,
   "id": "77e16911",
   "metadata": {},
   "outputs": [],
   "source": []
  }
 ],
 "metadata": {
  "kernelspec": {
   "display_name": "base",
   "language": "python",
   "name": "python3"
  },
  "language_info": {
   "codemirror_mode": {
    "name": "ipython",
    "version": 3
   },
   "file_extension": ".py",
   "mimetype": "text/x-python",
   "name": "python",
   "nbconvert_exporter": "python",
   "pygments_lexer": "ipython3",
   "version": "3.12.4"
  }
 },
 "nbformat": 4,
 "nbformat_minor": 5
}
