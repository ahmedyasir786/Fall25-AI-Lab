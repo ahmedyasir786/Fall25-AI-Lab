{
 "cells": [
  {
   "cell_type": "markdown",
   "id": "1207ebcf",
   "metadata": {},
   "source": [
    "# DYNAMIC CALCULATOR"
   ]
  },
  {
   "cell_type": "code",
   "execution_count": 3,
   "id": "14091dd9",
   "metadata": {},
   "outputs": [
    {
     "name": "stdout",
     "output_type": "stream",
     "text": [
      "Dynamic calculator\n",
      "Use operations : +,-,*/\n",
      "Type q to exit\n",
      "\n",
      "Result = 10682472\n",
      "Result = 3747.125\n",
      "Result = 5717467.455555555\n",
      "Closed\n"
     ]
    }
   ],
   "source": [
    "def cal():\n",
    "    print(\"Dynamic calculator\")\n",
    "    print(\"Use operations : +,-,*/\")\n",
    "    print(\"Type q to exit\\n\")\n",
    "\n",
    "    while True:\n",
    "        expr = input(\"Enter expression :\")\n",
    "\n",
    "        if expr.lower() == 'q':\n",
    "            print(\"Closed\")\n",
    "            break\n",
    "\n",
    "        allowed = \"0123456789+-*/ \"\n",
    "\n",
    "        if any(ch not in allowed for ch in expr):\n",
    "            print(\"Invalid expression\")\n",
    "            continue\n",
    "\n",
    "        if \"/0\" in expr.replace(\" \",\"\"):\n",
    "            print(\"Divided by zero\")\n",
    "            continue\n",
    "        result = eval(expr)\n",
    "        print(f\"Result = {result}\")\n",
    "\n",
    "cal()\n"
   ]
  },
  {
   "cell_type": "code",
   "execution_count": null,
   "id": "7349d802",
   "metadata": {},
   "outputs": [],
   "source": []
  }
 ],
 "metadata": {
  "kernelspec": {
   "display_name": "base",
   "language": "python",
   "name": "python3"
  },
  "language_info": {
   "codemirror_mode": {
    "name": "ipython",
    "version": 3
   },
   "file_extension": ".py",
   "mimetype": "text/x-python",
   "name": "python",
   "nbconvert_exporter": "python",
   "pygments_lexer": "ipython3",
   "version": "3.12.4"
  }
 },
 "nbformat": 4,
 "nbformat_minor": 5
}
