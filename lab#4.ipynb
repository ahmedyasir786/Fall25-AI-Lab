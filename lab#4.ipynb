{
 "cells": [
  {
   "cell_type": "markdown",
   "id": "313a5fab",
   "metadata": {},
   "source": [
    "# Write a python program to remove punctuations from the given string?  "
   ]
  },
  {
   "cell_type": "code",
   "execution_count": 1,
   "id": "7f472646",
   "metadata": {},
   "outputs": [
    {
     "name": "stdout",
     "output_type": "stream",
     "text": [
      "Kuch bhi  kuchbhi\n"
     ]
    },
    {
     "name": "stderr",
     "output_type": "stream",
     "text": [
      "<>:2: SyntaxWarning: invalid escape sequence '\\,'\n",
      "<>:2: SyntaxWarning: invalid escape sequence '\\,'\n",
      "C:\\Users\\HP\\AppData\\Local\\Temp\\ipykernel_12468\\1229437279.py:2: SyntaxWarning: invalid escape sequence '\\,'\n",
      "  punc = '''!()-[]{};:'\"\\,<>./?@#$%^&*_~'''\n"
     ]
    }
   ],
   "source": [
    "text = \"Kuch bhi , kuch,bhi!\"\n",
    "punc = '''!()-[]{};:'\"\\,<>./?@#$%^&*_~'''\n",
    "\n",
    "result = \"\"\n",
    "for ch in text:\n",
    "    if ch not in punc:\n",
    "        result += ch\n",
    "\n",
    "print(result)\n"
   ]
  },
  {
   "cell_type": "markdown",
   "id": "4d22d246",
   "metadata": {},
   "source": [
    "#  Write a python program to sort the sentence in alphabetical order? "
   ]
  },
  {
   "cell_type": "code",
   "execution_count": 2,
   "id": "9a207da3",
   "metadata": {},
   "outputs": [
    {
     "name": "stdout",
     "output_type": "stream",
     "text": [
      "sorted:   AIadehmm\n"
     ]
    }
   ],
   "source": [
    "s = \"I am Ahmed\"\n",
    "char = list(s)\n",
    "for i in range(len(char)):\n",
    "    for j in range(len(char)-i-1):\n",
    "        if char[j] > char[j+1]:\n",
    "            char[j],char[j+1] = char[j+1] , char[j]\n",
    "var = \"\".join(char)\n",
    "print(\"sorted:\",var)"
   ]
  },
  {
   "cell_type": "markdown",
   "id": "09bbff87",
   "metadata": {},
   "source": [
    "# Sort by words"
   ]
  },
  {
   "cell_type": "code",
   "execution_count": 3,
   "id": "c684387a",
   "metadata": {},
   "outputs": [
    {
     "name": "stdout",
     "output_type": "stream",
     "text": [
      "Original sentence:\n",
      "My name is Ahmed and i am from BSAI\n",
      "\n",
      "Sorted sentence (word by word):\n",
      "Ahmed BSAI My am and from i is name\n"
     ]
    }
   ],
   "source": [
    "sentence = \"My name is Ahmed and i am from BSAI\"\n",
    "words = sentence.split()\n",
    "words.sort()\n",
    "sorted_sentence = \" \".join(words)\n",
    "\n",
    "print(\"Original sentence:\")\n",
    "print(sentence)\n",
    "print(\"\\nSorted sentence (word by word):\")\n",
    "print(sorted_sentence)\n"
   ]
  },
  {
   "cell_type": "markdown",
   "id": "591c4861",
   "metadata": {},
   "source": [
    "# Code for LUHN Algorithm"
   ]
  },
  {
   "cell_type": "code",
   "execution_count": 4,
   "id": "cb1c5960",
   "metadata": {},
   "outputs": [
    {
     "name": "stdout",
     "output_type": "stream",
     "text": [
      "Starting number: 5 8 9 3 8 0 4 1 1 5 4 5 7 2 8 9\n",
      "Remove the last digit (check digit): 5 8 9 3 8 0 4 1 1 5 4 5 7 2 8 X\n",
      "Reversed digits: 8 2 7 5 4 5 1 1 4 0 8 3 9 8 5 X\n",
      "Doubled even indices: 16 2 14 5 8 5 2 1 8 0 16 3 18 8 10 X\n",
      "Subtract 9 if > 9: 7 2 5 5 8 5 2 1 8 0 7 3 9 8 1 X\n",
      "Summing digits + check digit:\n",
      "7+2+5+5+8+5+2+1+8+0+7+3+9+8+1 + 9 = 80\n",
      "5893804115457289 is valid \n",
      "\n"
     ]
    },
    {
     "data": {
      "text/plain": [
       "True"
      ]
     },
     "execution_count": 4,
     "metadata": {},
     "output_type": "execute_result"
    }
   ],
   "source": [
    "def luhn(card_num):\n",
    "    \n",
    "    card_num = card_num.replace(\" \", \"\").replace(\"-\", \"\")\n",
    "    print(\"Starting number:\", \" \".join(card_num))\n",
    "\n",
    "    if not card_num.isdigit():\n",
    "        print(\"Invalid input: only digits allowed\")\n",
    "        return False\n",
    "\n",
    "    check_digit = int(card_num[-1])\n",
    "    remaining_digits = card_num[:-1]\n",
    "    print(\"Remove the last digit (check digit):\", \" \".join(remaining_digits), \"X\")\n",
    "\n",
    "    reversed_digits = remaining_digits[::-1]\n",
    "    print(\"Reversed digits:\", \" \".join(reversed_digits), \"X\")\n",
    "\n",
    "    transformed_digits = []\n",
    "    doubled_step = []\n",
    "    subtracted_step = []\n",
    "\n",
    "    for i, d in enumerate(reversed_digits):\n",
    "        n = int(d)\n",
    "        doubled = n\n",
    "        if i % 2 == 0: \n",
    "            doubled = n * 2\n",
    "        doubled_step.append(str(doubled))\n",
    "\n",
    "        if i % 2 == 0 and doubled > 9:\n",
    "            doubled -= 9\n",
    "        transformed_digits.append(doubled)\n",
    "        subtracted_step.append(str(doubled))\n",
    "\n",
    "    print(\"Doubled even indices:\", \" \".join(doubled_step), \"X\")\n",
    "    print(\"Subtract 9 if > 9:\", \" \".join(subtracted_step), \"X\")\n",
    "\n",
    "    total = sum(transformed_digits) + check_digit\n",
    "    print(\"Summing digits + check digit:\")\n",
    "    print(\"+\".join(map(str, transformed_digits)), \"+\", check_digit, \"=\", total)\n",
    "\n",
    "    if total % 10 == 0:\n",
    "        print(f\"{card_num} is valid \\n\")\n",
    "        return True\n",
    "    else:\n",
    "        print(f\"{card_num} is invalid\\n\")\n",
    "        return False\n",
    "\n",
    "card = \"5893804115457289\"\n",
    "luhn(card)\n"
   ]
  },
  {
   "cell_type": "code",
   "execution_count": null,
   "id": "ff53cfe7",
   "metadata": {},
   "outputs": [],
   "source": []
  }
 ],
 "metadata": {
  "kernelspec": {
   "display_name": "base",
   "language": "python",
   "name": "python3"
  },
  "language_info": {
   "codemirror_mode": {
    "name": "ipython",
    "version": 3
   },
   "file_extension": ".py",
   "mimetype": "text/x-python",
   "name": "python",
   "nbconvert_exporter": "python",
   "pygments_lexer": "ipython3",
   "version": "3.12.4"
  }
 },
 "nbformat": 4,
 "nbformat_minor": 5
}
